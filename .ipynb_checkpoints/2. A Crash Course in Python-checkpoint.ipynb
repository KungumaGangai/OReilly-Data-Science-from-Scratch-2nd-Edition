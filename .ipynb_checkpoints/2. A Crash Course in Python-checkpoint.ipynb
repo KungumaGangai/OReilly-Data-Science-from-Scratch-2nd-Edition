{
 "cells": [
  {
   "cell_type": "markdown",
   "id": "c0448977",
   "metadata": {},
   "source": [
    "### The Zen of Python"
   ]
  },
  {
   "cell_type": "code",
   "execution_count": 1,
   "id": "03b0945d",
   "metadata": {},
   "outputs": [
    {
     "name": "stdout",
     "output_type": "stream",
     "text": [
      "The Zen of Python, by Tim Peters\n",
      "\n",
      "Beautiful is better than ugly.\n",
      "Explicit is better than implicit.\n",
      "Simple is better than complex.\n",
      "Complex is better than complicated.\n",
      "Flat is better than nested.\n",
      "Sparse is better than dense.\n",
      "Readability counts.\n",
      "Special cases aren't special enough to break the rules.\n",
      "Although practicality beats purity.\n",
      "Errors should never pass silently.\n",
      "Unless explicitly silenced.\n",
      "In the face of ambiguity, refuse the temptation to guess.\n",
      "There should be one-- and preferably only one --obvious way to do it.\n",
      "Although that way may not be obvious at first unless you're Dutch.\n",
      "Now is better than never.\n",
      "Although never is often better than *right* now.\n",
      "If the implementation is hard to explain, it's a bad idea.\n",
      "If the implementation is easy to explain, it may be a good idea.\n",
      "Namespaces are one honking great idea -- let's do more of those!\n"
     ]
    }
   ],
   "source": [
    "import this"
   ]
  },
  {
   "cell_type": "markdown",
   "id": "c917918c",
   "metadata": {},
   "source": [
    "### Getting Python\n",
    "\n",
    "You can download Python from Python.org. But if you don’t already have\n",
    "Python, I recommend instead installing the Anaconda distribution, which\n",
    "already includes most of the libraries that you need to do data science.\n"
   ]
  },
  {
   "cell_type": "markdown",
   "id": "f48ab1ae",
   "metadata": {},
   "source": [
    "### Virtual Environments\n",
    "\n",
    "Every data science project you do will require some combination of external libraries, sometimes with specific versions that differ from the specific versions you used for other projects. If you were to have a single Python installation, these libraries would conflict and cause you all sorts of problems.\n",
    "\n",
    "The standard solution is to use virtual environments, which are sandboxed Python environments that maintain their own versions of Python libraries (and, depending on how you set up the environment, of Python itself).\n",
    "\n",
    "I recommended you install the Anaconda Python distribution, so in this section I’m going to explain how Anaconda’s environments work. If you are not using Anaconda, you can either use the built-in venv module or install virtualenv. In which case you should follow their instructions instead.\n",
    "\n",
    "To create an (Anaconda) virtual environment, you just do the following:\n",
    " * create a Python 3.6 environment named \"dsfs\"\n",
    "> conda create -n dsfs python=3.6\n",
    " \n",
    "Follow the prompts, and you’ll have a virtual environment called “dsfs,” with the instructions:\n",
    "\n",
    " To activate this environment, use:\n",
    " > source activate dsfs\n",
    "\n",
    " To deactivate an active environment, use:\n",
    " > source deactivate\n",
    "\n",
    " As indicated, you then activate the environment using:\n",
    " > source activate dsfs\n",
    "\n",
    "at which point your command prompt should change to indicate the active environment\n",
    "\n",
    "As long as this environment is active, any libraries you install will be installed only in the dsfs environment\n",
    "\n",
    "Now that you have your environment, it’s worth installing IPython, which is a full-featured Python shell:\n",
    " > python -m pip install ipython\n",
    "\n",
    "As a matter of good discipline, you should always work in a virtual environment, and never using the “base” Python installation.\n",
    "\n"
   ]
  },
  {
   "cell_type": "markdown",
   "id": "4cc74abb",
   "metadata": {},
   "source": [
    "### Whitespace Formatting\n",
    "\n",
    "Many languages use curly braces to delimit blocks of code. Python uses\n",
    "indentation:"
   ]
  },
  {
   "cell_type": "code",
   "execution_count": 2,
   "id": "4957a8e6",
   "metadata": {
    "collapsed": true
   },
   "outputs": [
    {
     "name": "stdout",
     "output_type": "stream",
     "text": [
      "1\n",
      "1\n",
      "2\n",
      "2\n",
      "3\n",
      "3\n",
      "4\n",
      "4\n",
      "5\n",
      "5\n",
      "6\n",
      "1\n",
      "2\n",
      "1\n",
      "3\n",
      "2\n",
      "4\n",
      "3\n",
      "5\n",
      "4\n",
      "6\n",
      "5\n",
      "7\n",
      "2\n",
      "3\n",
      "1\n",
      "4\n",
      "2\n",
      "5\n",
      "3\n",
      "6\n",
      "4\n",
      "7\n",
      "5\n",
      "8\n",
      "3\n",
      "4\n",
      "1\n",
      "5\n",
      "2\n",
      "6\n",
      "3\n",
      "7\n",
      "4\n",
      "8\n",
      "5\n",
      "9\n",
      "4\n",
      "5\n",
      "1\n",
      "6\n",
      "2\n",
      "7\n",
      "3\n",
      "8\n",
      "4\n",
      "9\n",
      "5\n",
      "10\n",
      "5\n",
      "done looping\n"
     ]
    }
   ],
   "source": [
    "# The pound sign marks the start of a comment. Python itself\n",
    "# ignores the comments, but they're helpful for anyone reading the code.\n",
    "for i in [1, 2, 3, 4, 5]:\n",
    "    print(i)\n",
    "    for j in [1, 2, 3, 4, 5]:\n",
    "        print(j)\n",
    "        print(i+j)\n",
    "    print(i)\n",
    "print('done looping')"
   ]
  },
  {
   "cell_type": "markdown",
   "id": "f20509be",
   "metadata": {},
   "source": [
    "This makes Python code very readable, but it also means that you have to\n",
    "be very careful with your formatting.\n",
    "\n",
    "##### WARNING\n",
    "Programmers will often argue over whether to use tabs or spaces for indentation. For\n",
    "many languages it doesn’t matter that much; however, Python considers tabs and spaces\n",
    "different indentation and will not be able to run your code if you mix the two. When\n",
    "writing Python you should always use spaces, never tabs. (If you write code in an editor\n",
    "you can configure it so that the Tab key just inserts spaces.)"
   ]
  },
  {
   "cell_type": "markdown",
   "id": "af73f9cd",
   "metadata": {},
   "source": [
    "Whitespace is ignored inside parentheses and brackets, which can be\n",
    "helpful for long-winded computations: and for making code easier to read"
   ]
  },
  {
   "cell_type": "code",
   "execution_count": 4,
   "id": "49fa1cff",
   "metadata": {},
   "outputs": [
    {
     "data": {
      "text/plain": [
       "210"
      ]
     },
     "execution_count": 4,
     "metadata": {},
     "output_type": "execute_result"
    }
   ],
   "source": [
    "long_winded_computation = (1 + 2 + 3 + 4 + 5 + 6 + 7 + 8 + 9 + 10 +\n",
    "                           11 + 12 + 13 + 14 + 15 + 16 + 17 + 18 + 19 + 20)\n",
    "long_winded_computation"
   ]
  },
  {
   "cell_type": "code",
   "execution_count": 7,
   "id": "3ab53dec",
   "metadata": {},
   "outputs": [],
   "source": [
    "list_of_lists = [[1, 2, 3], [4, 5, 6], [7, 8, 9]]\n",
    "\n",
    "easier_to_read_list_of_lists = [[1, 2, 3],\n",
    "                                [4, 5, 6],\n",
    "                                [7, 8, 9]]"
   ]
  },
  {
   "cell_type": "markdown",
   "id": "8a4dd9c6",
   "metadata": {},
   "source": [
    "You can also use a backslash to indicate that a statement continues onto the\n",
    "next line, although we’ll rarely do this:"
   ]
  },
  {
   "cell_type": "code",
   "execution_count": 10,
   "id": "b390315b",
   "metadata": {},
   "outputs": [],
   "source": [
    "two_plus_three = 2 + \\\n",
    "                 3"
   ]
  },
  {
   "cell_type": "markdown",
   "id": "41573d66",
   "metadata": {},
   "source": [
    "One consequence of whitespace formatting is that it can be hard to copy and\n",
    "paste code into the Python shell. For example, if you tried to paste the code:\n",
    "into the ordinary Python shell, you would receive the complaint:\n",
    "> IndentationError: expected an indented \n",
    "\n",
    "because the interpreter thinks the blank line signals the end of the for\n",
    "loop’s block.\n",
    "\n"
   ]
  },
  {
   "cell_type": "code",
   "execution_count": 12,
   "id": "81304414",
   "metadata": {
    "collapsed": true
   },
   "outputs": [
    {
     "name": "stdout",
     "output_type": "stream",
     "text": [
      "1\n",
      "2\n",
      "3\n",
      "4\n",
      "5\n"
     ]
    }
   ],
   "source": [
    "for i in [1, 2, 3, 4, 5]:    \n",
    "    \n",
    "    #notice the blank line\n",
    "    print(i)"
   ]
  },
  {
   "cell_type": "markdown",
   "id": "eecb5f66",
   "metadata": {},
   "source": [
    "IPython has a magic function called %paste, which correctly pastes\n",
    "whatever is on your clipboard, whitespace and all. This alone is a good\n",
    "reason to use IPython.\n"
   ]
  },
  {
   "cell_type": "markdown",
   "id": "154f5db2",
   "metadata": {},
   "source": [
    "### Modules\n",
    "\n",
    "Certain features of Python are not loaded by default. These include both\n",
    "features that are included as part of the language as well as third-party\n",
    "features that you download yourself. In order to use these features, you’ll\n",
    "need to import the modules that contain them.\n",
    "One approach is to simply import the module itself:"
   ]
  },
  {
   "cell_type": "code",
   "execution_count": 14,
   "id": "af43ea1c",
   "metadata": {},
   "outputs": [
    {
     "data": {
      "text/plain": [
       "re.compile(r'[0-9]+', re.IGNORECASE|re.UNICODE)"
      ]
     },
     "execution_count": 14,
     "metadata": {},
     "output_type": "execute_result"
    }
   ],
   "source": [
    "import re\n",
    "my_regex = re.compile(\"[0-9]+\", re.I)\n",
    "my_regex"
   ]
  },
  {
   "cell_type": "markdown",
   "id": "09d5b3b5",
   "metadata": {},
   "source": [
    "Here, re is the module containing functions and constants for working with\n",
    "regular expressions. After this type of import you must prefix those\n",
    "functions with re. in order to access them.\n",
    "\n",
    "If you already had a different re in your code, you could use an alias:"
   ]
  },
  {
   "cell_type": "code",
   "execution_count": 15,
   "id": "2e50f305",
   "metadata": {},
   "outputs": [
    {
     "data": {
      "text/plain": [
       "re.compile(r'[0-9]+', re.IGNORECASE|re.UNICODE)"
      ]
     },
     "execution_count": 15,
     "metadata": {},
     "output_type": "execute_result"
    }
   ],
   "source": [
    "import re as regex\n",
    "my_regex = regex.compile(\"[0-9]+\", regex.I)\n",
    "my_regex"
   ]
  },
  {
   "cell_type": "markdown",
   "id": "0451f1aa",
   "metadata": {},
   "source": [
    "You might also do this if your module has an unwieldy name or if you’re\n",
    "going to be typing it a lot. For example, a standard convention when\n",
    "visualizing data with matplotlib is:\n",
    "\n",
    ">import matplotlib.pyplot as plt\n",
    ">>plt.plot(...)\n",
    "\n",
    "If you need a few specific values from a module, you can import them\n",
    "explicitly and use them without qualification:"
   ]
  },
  {
   "cell_type": "code",
   "execution_count": 17,
   "id": "81c34b27",
   "metadata": {},
   "outputs": [],
   "source": [
    "from collections import defaultdict, Counter\n",
    "lookup = defaultdict(int)\n",
    "my_counter = Counter()\n",
    "\n",
    "# reference : https://www.geeksforgeeks.org/python-collections-module/"
   ]
  },
  {
   "cell_type": "markdown",
   "id": "cab4356b",
   "metadata": {},
   "source": [
    "If you were a bad person, you could import the entire contents of a module\n",
    "into your namespace, which might inadvertently overwrite variables you’ve\n",
    "already defined:"
   ]
  },
  {
   "cell_type": "code",
   "execution_count": 19,
   "id": "6f2159a9",
   "metadata": {},
   "outputs": [
    {
     "name": "stdout",
     "output_type": "stream",
     "text": [
      "<function match at 0x0000000002A38D08>\n"
     ]
    }
   ],
   "source": [
    "match = 10\n",
    "from re import *  # uh oh, re has a match function\n",
    "print(match)      # \"<function match at 0x10281e6a8>\""
   ]
  },
  {
   "cell_type": "markdown",
   "id": "982a4e2b",
   "metadata": {},
   "source": [
    "However, since you are not a bad person, you won’t ever do this.\n"
   ]
  },
  {
   "cell_type": "markdown",
   "id": "3a64d627",
   "metadata": {},
   "source": [
    "### Functions\n",
    "\n",
    "A function is a rule for taking zero or more inputs and returning a\n",
    "corresponding output. In Python, we typically define functions using def:\n"
   ]
  },
  {
   "cell_type": "code",
   "execution_count": 1,
   "id": "f4d5c36d",
   "metadata": {},
   "outputs": [],
   "source": [
    "def double(x):\n",
    "    \"\"\"\n",
    "    This is where you put an optional docstring that explains what the function does.\n",
    "    For example, this function multiplies its input by 2.\n",
    "    \"\"\"\n",
    "    return x * 2"
   ]
  },
  {
   "cell_type": "markdown",
   "id": "9f4df13d",
   "metadata": {},
   "source": [
    "Python functions are first-class, which means that we can assign them to\n",
    "variables and pass them into functions just like any other arguments:\n"
   ]
  },
  {
   "cell_type": "code",
   "execution_count": 9,
   "id": "495258fc",
   "metadata": {},
   "outputs": [
    {
     "name": "stdout",
     "output_type": "stream",
     "text": [
      "2\n"
     ]
    }
   ],
   "source": [
    "def apply_to_one(f):\n",
    "    \"\"\" Calls the function f with 1 as its arguments\"\"\"\n",
    "    return f(1)\n",
    "\n",
    "# assigning the function (double) to a variable (my_double)\n",
    "my_double = double #refers to the previously defined function \n",
    "\n",
    "# passing a function object(my_double) into another function(apply_to_one) as an argument\n",
    "x = apply_to_one(my_double) # equals 2\n",
    "print(x)"
   ]
  },
  {
   "cell_type": "markdown",
   "id": "a0b9de3a",
   "metadata": {},
   "source": [
    "It is also easy to create short anonymous functions, or lambdas:"
   ]
  },
  {
   "cell_type": "code",
   "execution_count": 10,
   "id": "c0ee616e",
   "metadata": {},
   "outputs": [
    {
     "data": {
      "text/plain": [
       "5"
      ]
     },
     "execution_count": 10,
     "metadata": {},
     "output_type": "execute_result"
    }
   ],
   "source": [
    "y = apply_to_one(lambda x: x + 4)\n",
    "y"
   ]
  },
  {
   "cell_type": "markdown",
   "id": "ae1e2b57",
   "metadata": {},
   "source": [
    "You can assign lambdas to variables, although most people will tell you that\n",
    "you should just use def instead:\n"
   ]
  },
  {
   "cell_type": "code",
   "execution_count": 11,
   "id": "29467c69",
   "metadata": {},
   "outputs": [],
   "source": [
    "another_double = lambda x: 2 * x    # don't do this\n",
    "\n",
    "def another_double(x):\n",
    "    \"\"\" Do this instead\"\"\"\n",
    "    return 2 * x"
   ]
  },
  {
   "cell_type": "markdown",
   "id": "e67047ff",
   "metadata": {},
   "source": [
    "Function parameters can also be given default arguments, which only need\n",
    "to be specified when you want a value other than the default:\n"
   ]
  },
  {
   "cell_type": "code",
   "execution_count": 12,
   "id": "40c89132",
   "metadata": {},
   "outputs": [
    {
     "name": "stdout",
     "output_type": "stream",
     "text": [
      "hello\n",
      "my default message\n"
     ]
    }
   ],
   "source": [
    "def my_print(message = \"my default message\"):\n",
    "    print(message)\n",
    "    \n",
    "my_print(\"hello\") # prints 'hello'\n",
    "my_print()        # prints 'my default message'"
   ]
  },
  {
   "cell_type": "markdown",
   "id": "38e36d80",
   "metadata": {},
   "source": [
    "It is sometimes useful to specify arguments by name:"
   ]
  },
  {
   "cell_type": "code",
   "execution_count": 19,
   "id": "5eec76e9",
   "metadata": {},
   "outputs": [
    {
     "data": {
      "text/plain": [
       "'Joel Grus'"
      ]
     },
     "execution_count": 19,
     "metadata": {},
     "output_type": "execute_result"
    }
   ],
   "source": [
    "def full_name(first = \"What's-his-name\", last = \"something\"):\n",
    "    return first + \" \" + last\n",
    "\n",
    "full_name(\"Joel\", \"Grus\")"
   ]
  },
  {
   "cell_type": "code",
   "execution_count": 18,
   "id": "17842f6e",
   "metadata": {},
   "outputs": [
    {
     "data": {
      "text/plain": [
       "'Joel something'"
      ]
     },
     "execution_count": 18,
     "metadata": {},
     "output_type": "execute_result"
    }
   ],
   "source": [
    "full_name(\"Joel\")"
   ]
  },
  {
   "cell_type": "code",
   "execution_count": 16,
   "id": "e00c4c76",
   "metadata": {},
   "outputs": [
    {
     "data": {
      "text/plain": [
       "\"What's-his-name Grus\""
      ]
     },
     "execution_count": 16,
     "metadata": {},
     "output_type": "execute_result"
    }
   ],
   "source": [
    "full_name(last=\"Grus\")"
   ]
  },
  {
   "cell_type": "markdown",
   "id": "d322de62",
   "metadata": {},
   "source": [
    "We will be creating many, many functions"
   ]
  },
  {
   "cell_type": "markdown",
   "id": "0733b2a7",
   "metadata": {},
   "source": [
    "### Strings\n",
    "\n",
    "Strings can be delimited by single or double quotation marks (but the\n",
    "quotes have to match):"
   ]
  },
  {
   "cell_type": "code",
   "execution_count": 1,
   "id": "8a930480",
   "metadata": {},
   "outputs": [],
   "source": [
    "single_quoted_string = 'data science'\n",
    "double_quoted_string = \"data science\""
   ]
  },
  {
   "cell_type": "markdown",
   "id": "7f76ec26",
   "metadata": {},
   "source": [
    "Python uses backslashes to encode special characters. For example"
   ]
  },
  {
   "cell_type": "code",
   "execution_count": 5,
   "id": "e2103210",
   "metadata": {},
   "outputs": [
    {
     "data": {
      "text/plain": [
       "1"
      ]
     },
     "execution_count": 5,
     "metadata": {},
     "output_type": "execute_result"
    }
   ],
   "source": [
    "tab_string = \"\\t\"   # represents the tab character\n",
    "len(tab_string)     # is 1"
   ]
  },
  {
   "cell_type": "markdown",
   "id": "dad3e2bc",
   "metadata": {},
   "source": [
    "If you want backslahses as backslashes (which you might in windows directory names or in regular expressions), \n",
    "you can create raw strings using r\"\":"
   ]
  },
  {
   "cell_type": "code",
   "execution_count": 6,
   "id": "2e3c61b7",
   "metadata": {},
   "outputs": [
    {
     "data": {
      "text/plain": [
       "2"
      ]
     },
     "execution_count": 6,
     "metadata": {},
     "output_type": "execute_result"
    }
   ],
   "source": [
    "not_tab_string = r\"\\t\"  # represents the characters '\\' and 't'\n",
    "len(not_tab_string)     # is 2"
   ]
  },
  {
   "cell_type": "markdown",
   "id": "bb8baa20",
   "metadata": {},
   "source": [
    "You can create multiline strings using three double quotes: "
   ]
  },
  {
   "cell_type": "code",
   "execution_count": 7,
   "id": "44937d50",
   "metadata": {},
   "outputs": [],
   "source": [
    "multi_line_string = \"\"\"This is the first line.\n",
    "and this is the second line\n",
    "and this is the third line\"\"\""
   ]
  },
  {
   "cell_type": "markdown",
   "id": "77ef3ef0",
   "metadata": {},
   "source": [
    "A new feature in python 3.6 is the f-string, which provides a simple way to substitute values into strings.\n",
    "For example, if we had the first name and last name given separately:"
   ]
  },
  {
   "cell_type": "code",
   "execution_count": 8,
   "id": "936e4406",
   "metadata": {},
   "outputs": [],
   "source": [
    "first_name = \"Joel\"\n",
    "last_name = \"Grus\""
   ]
  },
  {
   "cell_type": "markdown",
   "id": "62c77076",
   "metadata": {},
   "source": [
    "We might want to combine them into a full name. There are multiple ways to construct such a full_name string:"
   ]
  },
  {
   "cell_type": "code",
   "execution_count": 10,
   "id": "46c8388e",
   "metadata": {},
   "outputs": [],
   "source": [
    "full_name1 = first_name + \" \" + last_name               # string addition\n",
    "full_name2 = \"{0} {1}\".format(first_name, last_name)    # string.format"
   ]
  },
  {
   "cell_type": "markdown",
   "id": "1f1efe87",
   "metadata": {},
   "source": [
    "but the f-string way is much less unwieldy:"
   ]
  },
  {
   "cell_type": "code",
   "execution_count": 12,
   "id": "b0022a2b",
   "metadata": {},
   "outputs": [
    {
     "data": {
      "text/plain": [
       "'Joel Grus'"
      ]
     },
     "execution_count": 12,
     "metadata": {},
     "output_type": "execute_result"
    }
   ],
   "source": [
    "full_name3 = f\"{first_name} {last_name}\"\n",
    "full_name3"
   ]
  },
  {
   "cell_type": "markdown",
   "id": "bc5ba717",
   "metadata": {},
   "source": [
    "and we'll prefer it throughout the book."
   ]
  },
  {
   "cell_type": "markdown",
   "id": "0e948198",
   "metadata": {},
   "source": [
    "### Exceptions\n",
    "\n",
    "When something goes wrong, python will raise an <i>exception</i>. Unhandled, exceptions will cause your program to crash.\n",
    "You can handle them using try and except:"
   ]
  },
  {
   "cell_type": "code",
   "execution_count": 13,
   "id": "29174bd5",
   "metadata": {},
   "outputs": [
    {
     "name": "stdout",
     "output_type": "stream",
     "text": [
      "cannot divide by Zero\n"
     ]
    }
   ],
   "source": [
    "try:\n",
    "    print(0/0)\n",
    "except ZeroDivisionError:\n",
    "    print(\"cannot divide by Zero\")"
   ]
  },
  {
   "cell_type": "markdown",
   "id": "99f34e04",
   "metadata": {},
   "source": [
    "Although in many languages exceptions are considered bad, in Python there is no shame in using them to make your code cleaner, \n",
    "and we will sometimes do so."
   ]
  },
  {
   "cell_type": "markdown",
   "id": "7ed4c862",
   "metadata": {},
   "source": [
    "### Lists\n",
    "\n",
    "Probably the most fundamental data structure in Python is the <i>list</i>, which is simply an ordered collection ( it is similar to \n",
    "what in other languages might be called an <i>array</i>, but with some added funtionality):"
   ]
  },
  {
   "cell_type": "code",
   "execution_count": 14,
   "id": "76658bf7",
   "metadata": {},
   "outputs": [],
   "source": [
    "integer_list = [1, 2, 3]\n",
    "heterogeneous_list = [\"string\", 0.1, True]\n",
    "list_of_lists = [integer_list, heterogeneous_list, []]"
   ]
  },
  {
   "cell_type": "code",
   "execution_count": 15,
   "id": "3ceaa494",
   "metadata": {},
   "outputs": [
    {
     "data": {
      "text/plain": [
       "[[1, 2, 3], ['string', 0.1, True], []]"
      ]
     },
     "execution_count": 15,
     "metadata": {},
     "output_type": "execute_result"
    }
   ],
   "source": [
    "list_of_lists"
   ]
  },
  {
   "cell_type": "code",
   "execution_count": 18,
   "id": "8b643874",
   "metadata": {},
   "outputs": [
    {
     "data": {
      "text/plain": [
       "3"
      ]
     },
     "execution_count": 18,
     "metadata": {},
     "output_type": "execute_result"
    }
   ],
   "source": [
    "list_length = len(integer_list)   #equals 3\n",
    "list_length"
   ]
  },
  {
   "cell_type": "code",
   "execution_count": 20,
   "id": "f41a3632",
   "metadata": {},
   "outputs": [
    {
     "data": {
      "text/plain": [
       "6"
      ]
     },
     "execution_count": 20,
     "metadata": {},
     "output_type": "execute_result"
    }
   ],
   "source": [
    "list_sum = sum(integer_list)    # equals 6\n",
    "list_sum"
   ]
  },
  {
   "cell_type": "markdown",
   "id": "43ec732c",
   "metadata": {},
   "source": [
    "You can get or set a <i>n</i>th element of a list with square brackets:"
   ]
  },
  {
   "cell_type": "code",
   "execution_count": 1,
   "id": "39b53960",
   "metadata": {},
   "outputs": [],
   "source": [
    "x = [0, 1, 2, 3, 4, 5, 6, 7, 8, 9]"
   ]
  },
  {
   "cell_type": "code",
   "execution_count": 2,
   "id": "9805f057",
   "metadata": {},
   "outputs": [
    {
     "data": {
      "text/plain": [
       "0"
      ]
     },
     "execution_count": 2,
     "metadata": {},
     "output_type": "execute_result"
    }
   ],
   "source": [
    "zero = x[0]    # equals 0, lists are 0-indexed\n",
    "zero"
   ]
  },
  {
   "cell_type": "code",
   "execution_count": 3,
   "id": "7d87e57c",
   "metadata": {},
   "outputs": [
    {
     "data": {
      "text/plain": [
       "1"
      ]
     },
     "execution_count": 3,
     "metadata": {},
     "output_type": "execute_result"
    }
   ],
   "source": [
    "one = x[1]    # equals 1\n",
    "one"
   ]
  },
  {
   "cell_type": "code",
   "execution_count": 4,
   "id": "65da9619",
   "metadata": {},
   "outputs": [
    {
     "data": {
      "text/plain": [
       "9"
      ]
     },
     "execution_count": 4,
     "metadata": {},
     "output_type": "execute_result"
    }
   ],
   "source": [
    "nine = x[-1]  # equals 9, 'pythonic' for last element\n",
    "nine"
   ]
  },
  {
   "cell_type": "code",
   "execution_count": 5,
   "id": "d4f165b0",
   "metadata": {},
   "outputs": [
    {
     "data": {
      "text/plain": [
       "8"
      ]
     },
     "execution_count": 5,
     "metadata": {},
     "output_type": "execute_result"
    }
   ],
   "source": [
    "eight = x[-2] # equals 8, 'pythonic' for next-to-last element\n",
    "eight"
   ]
  },
  {
   "cell_type": "code",
   "execution_count": 6,
   "id": "ef9a58db",
   "metadata": {},
   "outputs": [
    {
     "data": {
      "text/plain": [
       "[-1, 1, 2, 3, 4, 5, 6, 7, 8, 9]"
      ]
     },
     "execution_count": 6,
     "metadata": {},
     "output_type": "execute_result"
    }
   ],
   "source": [
    "x[0] = -1     # now x is [-1, 1, 2, 3, ...., 9]\n",
    "x"
   ]
  },
  {
   "cell_type": "markdown",
   "id": "c6fe9a8a",
   "metadata": {},
   "source": [
    "You can also use square brackets to <i>slice</i> lists. The slice <b>i : j</b> means all elements from <b>i</b> (inclusive) to <b>j</b> (not inclusive). If you leave of the start of the slice, you'll slice from the beggining of the list, and if you leave of the end of the slice, you'll slice until the end of the list:"
   ]
  },
  {
   "cell_type": "code",
   "execution_count": 8,
   "id": "e371d6c3",
   "metadata": {},
   "outputs": [
    {
     "data": {
      "text/plain": [
       "[-1, 1, 2]"
      ]
     },
     "execution_count": 8,
     "metadata": {},
     "output_type": "execute_result"
    }
   ],
   "source": [
    "first_three = x[:3]\n",
    "first_three"
   ]
  },
  {
   "cell_type": "code",
   "execution_count": 9,
   "id": "565267b4",
   "metadata": {},
   "outputs": [
    {
     "data": {
      "text/plain": [
       "[3, 4, 5, 6, 7, 8, 9]"
      ]
     },
     "execution_count": 9,
     "metadata": {},
     "output_type": "execute_result"
    }
   ],
   "source": [
    "three_to_end = x[3:]\n",
    "three_to_end"
   ]
  },
  {
   "cell_type": "code",
   "execution_count": 11,
   "id": "819a908a",
   "metadata": {},
   "outputs": [
    {
     "data": {
      "text/plain": [
       "[1, 2, 3, 4]"
      ]
     },
     "execution_count": 11,
     "metadata": {},
     "output_type": "execute_result"
    }
   ],
   "source": [
    "one_to_four = x[1:5]\n",
    "one_to_four"
   ]
  },
  {
   "cell_type": "code",
   "execution_count": 15,
   "id": "c855ca45",
   "metadata": {},
   "outputs": [
    {
     "data": {
      "text/plain": [
       "[7, 8, 9]"
      ]
     },
     "execution_count": 15,
     "metadata": {},
     "output_type": "execute_result"
    }
   ],
   "source": [
    "last_three = x[-3:]\n",
    "last_three"
   ]
  },
  {
   "cell_type": "code",
   "execution_count": 16,
   "id": "89207035",
   "metadata": {},
   "outputs": [
    {
     "data": {
      "text/plain": [
       "[1, 2, 3, 4, 5, 6, 7, 8]"
      ]
     },
     "execution_count": 16,
     "metadata": {},
     "output_type": "execute_result"
    }
   ],
   "source": [
    "without_first_and_last = x[1:-1]\n",
    "without_first_and_last"
   ]
  },
  {
   "cell_type": "code",
   "execution_count": 17,
   "id": "71b54180",
   "metadata": {},
   "outputs": [
    {
     "data": {
      "text/plain": [
       "[-1, 1, 2, 3, 4, 5, 6, 7, 8, 9]"
      ]
     },
     "execution_count": 17,
     "metadata": {},
     "output_type": "execute_result"
    }
   ],
   "source": [
    "copy_of_x = x[:]\n",
    "copy_of_x"
   ]
  },
  {
   "cell_type": "markdown",
   "id": "606ba078",
   "metadata": {},
   "source": [
    "you can similarly slice strings and other \"sequential\" types.\n",
    "<br><br>\n",
    "A Slice can take a third argument to indicate its <i>stride</i>, which can be negative"
   ]
  },
  {
   "cell_type": "code",
   "execution_count": 23,
   "id": "56467def",
   "metadata": {},
   "outputs": [
    {
     "data": {
      "text/plain": [
       "[-1, 3, 6, 9]"
      ]
     },
     "execution_count": 23,
     "metadata": {},
     "output_type": "execute_result"
    }
   ],
   "source": [
    "every_third = x[::3]\n",
    "every_third"
   ]
  },
  {
   "cell_type": "code",
   "execution_count": 40,
   "id": "82d394ff",
   "metadata": {},
   "outputs": [
    {
     "data": {
      "text/plain": [
       "[5, 4, 3]"
      ]
     },
     "execution_count": 40,
     "metadata": {},
     "output_type": "execute_result"
    }
   ],
   "source": [
    "five_to_three = x[5:2:-1]\n",
    "five_to_three"
   ]
  },
  {
   "cell_type": "markdown",
   "id": "e88bf384",
   "metadata": {},
   "source": [
    "Python has an <b>in</b> operator to check for list membership"
   ]
  },
  {
   "cell_type": "code",
   "execution_count": 41,
   "id": "eb500062",
   "metadata": {},
   "outputs": [
    {
     "data": {
      "text/plain": [
       "True"
      ]
     },
     "execution_count": 41,
     "metadata": {},
     "output_type": "execute_result"
    }
   ],
   "source": [
    "1 in [1, 2, 3]"
   ]
  },
  {
   "cell_type": "code",
   "execution_count": 42,
   "id": "c29270ed",
   "metadata": {},
   "outputs": [
    {
     "data": {
      "text/plain": [
       "False"
      ]
     },
     "execution_count": 42,
     "metadata": {},
     "output_type": "execute_result"
    }
   ],
   "source": [
    "0 in [1, 2, 3]"
   ]
  },
  {
   "cell_type": "markdown",
   "id": "8c44705d",
   "metadata": {},
   "source": [
    "This check invloves examining the elements of the list one at a time, which means that you probably shouldn't use it unless you know your list is pretty small (or unless you don't care how long the check takes).\n",
    "<br><br>\n",
    "It is easy to concatenate lists together. If you want to modify a list in place, you can use <b>extend</b> to add items from \n",
    "another collection:"
   ]
  },
  {
   "cell_type": "code",
   "execution_count": 43,
   "id": "8b6a5e7f",
   "metadata": {},
   "outputs": [
    {
     "data": {
      "text/plain": [
       "[1, 2, 3]"
      ]
     },
     "execution_count": 43,
     "metadata": {},
     "output_type": "execute_result"
    }
   ],
   "source": [
    "x = [1, 2, 3]\n",
    "x"
   ]
  },
  {
   "cell_type": "code",
   "execution_count": 44,
   "id": "ffe5a852",
   "metadata": {},
   "outputs": [
    {
     "data": {
      "text/plain": [
       "[1, 2, 3, 4, 5, 6]"
      ]
     },
     "execution_count": 44,
     "metadata": {},
     "output_type": "execute_result"
    }
   ],
   "source": [
    "x.extend([4, 5, 6])     # x is now [1, 2, 3, 4, 5, 6]\n",
    "x"
   ]
  },
  {
   "cell_type": "markdown",
   "id": "732c2bc3",
   "metadata": {},
   "source": [
    "If you don't want to modify x,  you can use list addition:"
   ]
  },
  {
   "cell_type": "code",
   "execution_count": 45,
   "id": "c7c43f10",
   "metadata": {},
   "outputs": [],
   "source": [
    "x = [1, 2, 3]"
   ]
  },
  {
   "cell_type": "code",
   "execution_count": 47,
   "id": "cd341de1",
   "metadata": {},
   "outputs": [
    {
     "data": {
      "text/plain": [
       "[1, 2, 3, 4, 5, 6]"
      ]
     },
     "execution_count": 47,
     "metadata": {},
     "output_type": "execute_result"
    }
   ],
   "source": [
    "y = x + [4, 5, 6]   # y is [1, 2, 3, 4, 5, 6]; x is unchanged\n",
    "y"
   ]
  },
  {
   "cell_type": "code",
   "execution_count": 49,
   "id": "94a8ee0c",
   "metadata": {},
   "outputs": [
    {
     "data": {
      "text/plain": [
       "[1, 2, 3]"
      ]
     },
     "execution_count": 49,
     "metadata": {},
     "output_type": "execute_result"
    }
   ],
   "source": [
    "x     #x is unchanged"
   ]
  },
  {
   "cell_type": "markdown",
   "id": "244976e0",
   "metadata": {},
   "source": [
    "Most frequently we will append to lists one item at a time:"
   ]
  },
  {
   "cell_type": "code",
   "execution_count": 52,
   "id": "80f98c29",
   "metadata": {},
   "outputs": [
    {
     "data": {
      "text/plain": [
       "[1, 2, 3, 0]"
      ]
     },
     "execution_count": 52,
     "metadata": {},
     "output_type": "execute_result"
    }
   ],
   "source": [
    "x = [1, 2, 3]\n",
    "x.append(0)\n",
    "x"
   ]
  },
  {
   "cell_type": "code",
   "execution_count": 54,
   "id": "000a3bc4",
   "metadata": {},
   "outputs": [
    {
     "data": {
      "text/plain": [
       "0"
      ]
     },
     "execution_count": 54,
     "metadata": {},
     "output_type": "execute_result"
    }
   ],
   "source": [
    "y = x[-1]\n",
    "y"
   ]
  },
  {
   "cell_type": "code",
   "execution_count": 55,
   "id": "f25aef29",
   "metadata": {},
   "outputs": [
    {
     "data": {
      "text/plain": [
       "4"
      ]
     },
     "execution_count": 55,
     "metadata": {},
     "output_type": "execute_result"
    }
   ],
   "source": [
    "z = len(x)\n",
    "z"
   ]
  },
  {
   "cell_type": "markdown",
   "id": "3ec99eb9",
   "metadata": {},
   "source": [
    "It's often convenient to unpack lists when you know how many elements they contain:"
   ]
  },
  {
   "cell_type": "code",
   "execution_count": 59,
   "id": "787a7a5d",
   "metadata": {},
   "outputs": [],
   "source": [
    "x, y = [1, 2]    # now x is 1, y is 2"
   ]
  },
  {
   "cell_type": "code",
   "execution_count": 57,
   "id": "05095727",
   "metadata": {},
   "outputs": [
    {
     "data": {
      "text/plain": [
       "1"
      ]
     },
     "execution_count": 57,
     "metadata": {},
     "output_type": "execute_result"
    }
   ],
   "source": [
    "x"
   ]
  },
  {
   "cell_type": "code",
   "execution_count": 58,
   "id": "7ea48da6",
   "metadata": {},
   "outputs": [
    {
     "data": {
      "text/plain": [
       "2"
      ]
     },
     "execution_count": 58,
     "metadata": {},
     "output_type": "execute_result"
    }
   ],
   "source": [
    "y"
   ]
  },
  {
   "cell_type": "markdown",
   "id": "8c67c844",
   "metadata": {},
   "source": [
    "although you will get a <i>ValueError</i> if you don't have the same number of elements on both sides.\n",
    "<br><br>\n",
    "A common idiom is to use an underscore for a value you are going to through away:"
   ]
  },
  {
   "cell_type": "code",
   "execution_count": 60,
   "id": "9b3f359d",
   "metadata": {},
   "outputs": [
    {
     "data": {
      "text/plain": [
       "2"
      ]
     },
     "execution_count": 60,
     "metadata": {},
     "output_type": "execute_result"
    }
   ],
   "source": [
    "_, y = [1, 2]    # now y == 2, didn't care about the first element\n",
    "y"
   ]
  },
  {
   "cell_type": "markdown",
   "id": "1336bef0",
   "metadata": {},
   "source": [
    "### Tuples\n",
    "\n",
    "Tuples are lists' immutable cousins. Pretty much anything you can do to a list that doesn't involve modifying it, you can do to a tuple.You specify a tuple by using parentheses (or nothing) instead of square brackets:"
   ]
  },
  {
   "cell_type": "code",
   "execution_count": 1,
   "id": "d8714599",
   "metadata": {},
   "outputs": [],
   "source": [
    "my_list = [1, 2]\n",
    "my_tuple = (1, 2)\n",
    "other_tuple = 3, 4"
   ]
  },
  {
   "cell_type": "code",
   "execution_count": 3,
   "id": "09890f12",
   "metadata": {},
   "outputs": [
    {
     "data": {
      "text/plain": [
       "[1, 3]"
      ]
     },
     "execution_count": 3,
     "metadata": {},
     "output_type": "execute_result"
    }
   ],
   "source": [
    "my_list[1] = 3  # my_list is now [1, 3]\n",
    "my_list"
   ]
  },
  {
   "cell_type": "code",
   "execution_count": 4,
   "id": "2702d3ca",
   "metadata": {},
   "outputs": [
    {
     "name": "stdout",
     "output_type": "stream",
     "text": [
      "Cannot modify a tuple\n"
     ]
    }
   ],
   "source": [
    "try:\n",
    "    my_tuple[1] = 3\n",
    "    \n",
    "except TypeError:\n",
    "    print(\"Cannot modify a tuple\")"
   ]
  },
  {
   "cell_type": "markdown",
   "id": "6399df8b",
   "metadata": {},
   "source": [
    "Tuples are a convenient way to return multiple values from functions:"
   ]
  },
  {
   "cell_type": "code",
   "execution_count": 5,
   "id": "d708f4c0",
   "metadata": {},
   "outputs": [],
   "source": [
    "def sum_and_product(x, y):\n",
    "    return (x + y), (x * y)"
   ]
  },
  {
   "cell_type": "code",
   "execution_count": 7,
   "id": "d4e057bc",
   "metadata": {},
   "outputs": [
    {
     "data": {
      "text/plain": [
       "(5, 6)"
      ]
     },
     "execution_count": 7,
     "metadata": {},
     "output_type": "execute_result"
    }
   ],
   "source": [
    "sp = sum_and_product(2, 3)\n",
    "sp"
   ]
  },
  {
   "cell_type": "code",
   "execution_count": 11,
   "id": "82357f91",
   "metadata": {},
   "outputs": [
    {
     "data": {
      "text/plain": [
       "(15, 50)"
      ]
     },
     "execution_count": 11,
     "metadata": {},
     "output_type": "execute_result"
    }
   ],
   "source": [
    "s, p = sum_and_product(5, 10)\n",
    "s, p"
   ]
  },
  {
   "cell_type": "markdown",
   "id": "dceb8a7a",
   "metadata": {},
   "source": [
    "Tuples (and lists) can also be used for multiple assignment:"
   ]
  },
  {
   "cell_type": "code",
   "execution_count": 22,
   "id": "c8cf1324",
   "metadata": {},
   "outputs": [
    {
     "name": "stdout",
     "output_type": "stream",
     "text": [
      "x is 1, y is 2\n"
     ]
    }
   ],
   "source": [
    "x, y = 1, 2\n",
    "print(\"x is {0}, y is {1}\".format(x, y))"
   ]
  },
  {
   "cell_type": "code",
   "execution_count": 23,
   "id": "3c68542c",
   "metadata": {},
   "outputs": [
    {
     "name": "stdout",
     "output_type": "stream",
     "text": [
      "x is 2, y is 1\n"
     ]
    }
   ],
   "source": [
    "x, y = y, x  # Pythonic way to swap variables; now x is 2, y is 1\n",
    "print(\"x is {0}, y is {1}\".format(x, y))"
   ]
  },
  {
   "cell_type": "markdown",
   "id": "0c2bceec",
   "metadata": {},
   "source": [
    "### Dictionaries\n",
    "\n"
   ]
  },
  {
   "cell_type": "markdown",
   "id": "6fc73697",
   "metadata": {},
   "source": [
    "Another fundamental data structure is a dictionary, which associates <i>values</i> with <i>keys</i> and allows you to quickly retrieve the value corresponding to a given key:"
   ]
  },
  {
   "cell_type": "code",
   "execution_count": 2,
   "id": "1b3a0e29",
   "metadata": {},
   "outputs": [
    {
     "data": {
      "text/plain": [
       "{'joel': 80, 'Tim': 95}"
      ]
     },
     "execution_count": 2,
     "metadata": {},
     "output_type": "execute_result"
    }
   ],
   "source": [
    "empty_dic = {}                    # Pythonic\n",
    "empty_dic2 = dict()               # less Pythonic\n",
    "grades = {'joel': 80, 'Tim':95}   # dictionary literal\n",
    "\n",
    "grades"
   ]
  },
  {
   "cell_type": "markdown",
   "id": "5681f3e7",
   "metadata": {},
   "source": [
    "You can look up the value for a key using square brackets:"
   ]
  },
  {
   "cell_type": "code",
   "execution_count": 4,
   "id": "04bae2e5",
   "metadata": {},
   "outputs": [
    {
     "data": {
      "text/plain": [
       "80"
      ]
     },
     "execution_count": 4,
     "metadata": {},
     "output_type": "execute_result"
    }
   ],
   "source": [
    "joels_grade = grades[\"joel\"]\n",
    "\n",
    "joels_grade"
   ]
  },
  {
   "cell_type": "markdown",
   "id": "3256a596",
   "metadata": {},
   "source": [
    "But you will get a <b>KeyError</b> if you ask for a key that's not in the dictionary:"
   ]
  },
  {
   "cell_type": "code",
   "execution_count": 5,
   "id": "e9ea47c2",
   "metadata": {},
   "outputs": [
    {
     "name": "stdout",
     "output_type": "stream",
     "text": [
      "no grade for Kate!\n"
     ]
    }
   ],
   "source": [
    "try:\n",
    "    kates_grade = grades[\"Kate\"]\n",
    "except KeyError:\n",
    "    print(\"no grade for Kate!\")"
   ]
  },
  {
   "cell_type": "markdown",
   "id": "5fb99237",
   "metadata": {},
   "source": [
    "You can check for the existence of a key using <b>in</b>:"
   ]
  },
  {
   "cell_type": "code",
   "execution_count": 9,
   "id": "ff3b6909",
   "metadata": {},
   "outputs": [],
   "source": [
    "joel_has_grade = \"joel\" in grades\n",
    "kate_has_grade = \"Kate\" in grades"
   ]
  },
  {
   "cell_type": "code",
   "execution_count": 10,
   "id": "c21f054d",
   "metadata": {},
   "outputs": [
    {
     "data": {
      "text/plain": [
       "True"
      ]
     },
     "execution_count": 10,
     "metadata": {},
     "output_type": "execute_result"
    }
   ],
   "source": [
    "joel_has_grade"
   ]
  },
  {
   "cell_type": "code",
   "execution_count": 11,
   "id": "089229ae",
   "metadata": {},
   "outputs": [
    {
     "data": {
      "text/plain": [
       "False"
      ]
     },
     "execution_count": 11,
     "metadata": {},
     "output_type": "execute_result"
    }
   ],
   "source": [
    "kate_has_grade"
   ]
  },
  {
   "cell_type": "code",
   "execution_count": null,
   "id": "3a5937a2",
   "metadata": {},
   "outputs": [],
   "source": []
  }
 ],
 "metadata": {
  "kernelspec": {
   "display_name": "Python 3",
   "language": "python",
   "name": "python3"
  },
  "language_info": {
   "codemirror_mode": {
    "name": "ipython",
    "version": 3
   },
   "file_extension": ".py",
   "mimetype": "text/x-python",
   "name": "python",
   "nbconvert_exporter": "python",
   "pygments_lexer": "ipython3",
   "version": "3.6.13"
  }
 },
 "nbformat": 4,
 "nbformat_minor": 5
}
