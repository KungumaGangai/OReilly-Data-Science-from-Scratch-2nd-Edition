{
 "cells": [
  {
   "cell_type": "markdown",
   "id": "c0448977",
   "metadata": {},
   "source": [
    "### The Zen of Python"
   ]
  },
  {
   "cell_type": "code",
   "execution_count": 1,
   "id": "03b0945d",
   "metadata": {},
   "outputs": [
    {
     "name": "stdout",
     "output_type": "stream",
     "text": [
      "The Zen of Python, by Tim Peters\n",
      "\n",
      "Beautiful is better than ugly.\n",
      "Explicit is better than implicit.\n",
      "Simple is better than complex.\n",
      "Complex is better than complicated.\n",
      "Flat is better than nested.\n",
      "Sparse is better than dense.\n",
      "Readability counts.\n",
      "Special cases aren't special enough to break the rules.\n",
      "Although practicality beats purity.\n",
      "Errors should never pass silently.\n",
      "Unless explicitly silenced.\n",
      "In the face of ambiguity, refuse the temptation to guess.\n",
      "There should be one-- and preferably only one --obvious way to do it.\n",
      "Although that way may not be obvious at first unless you're Dutch.\n",
      "Now is better than never.\n",
      "Although never is often better than *right* now.\n",
      "If the implementation is hard to explain, it's a bad idea.\n",
      "If the implementation is easy to explain, it may be a good idea.\n",
      "Namespaces are one honking great idea -- let's do more of those!\n"
     ]
    }
   ],
   "source": [
    "import this"
   ]
  },
  {
   "cell_type": "markdown",
   "id": "c917918c",
   "metadata": {},
   "source": [
    "### Getting Python\n",
    "\n",
    "You can download Python from Python.org. But if you don’t already have\n",
    "Python, I recommend instead installing the Anaconda distribution, which\n",
    "already includes most of the libraries that you need to do data science.\n"
   ]
  },
  {
   "cell_type": "markdown",
   "id": "f48ab1ae",
   "metadata": {},
   "source": [
    "### Virtual Environments\n",
    "\n",
    "Every data science project you do will require some combination of external libraries, sometimes with specific versions that differ from the specific versions you used for other projects. If you were to have a single Python installation, these libraries would conflict and cause you all sorts of problems.\n",
    "\n",
    "The standard solution is to use virtual environments, which are sandboxed Python environments that maintain their own versions of Python libraries (and, depending on how you set up the environment, of Python itself).\n",
    "\n",
    "I recommended you install the Anaconda Python distribution, so in this section I’m going to explain how Anaconda’s environments work. If you are not using Anaconda, you can either use the built-in venv module or install virtualenv. In which case you should follow their instructions instead.\n",
    "\n",
    "To create an (Anaconda) virtual environment, you just do the following:\n",
    " * create a Python 3.6 environment named \"dsfs\"\n",
    "> conda create -n dsfs python=3.6\n",
    " \n",
    "Follow the prompts, and you’ll have a virtual environment called “dsfs,” with the instructions:\n",
    "\n",
    " To activate this environment, use:\n",
    " > source activate dsfs\n",
    "\n",
    " To deactivate an active environment, use:\n",
    " > source deactivate\n",
    "\n",
    " As indicated, you then activate the environment using:\n",
    " > source activate dsfs\n",
    "\n",
    "at which point your command prompt should change to indicate the active environment\n",
    "\n",
    "As long as this environment is active, any libraries you install will be installed only in the dsfs environment\n",
    "\n",
    "Now that you have your environment, it’s worth installing IPython, which is a full-featured Python shell:\n",
    " > python -m pip install ipython\n",
    "\n",
    "As a matter of good discipline, you should always work in a virtual environment, and never using the “base” Python installation.\n",
    "\n"
   ]
  },
  {
   "cell_type": "markdown",
   "id": "4cc74abb",
   "metadata": {},
   "source": [
    "### Whitespace Formatting\n",
    "\n",
    "Many languages use curly braces to delimit blocks of code. Python uses\n",
    "indentation:"
   ]
  },
  {
   "cell_type": "code",
   "execution_count": 2,
   "id": "4957a8e6",
   "metadata": {
    "collapsed": true
   },
   "outputs": [
    {
     "name": "stdout",
     "output_type": "stream",
     "text": [
      "1\n",
      "1\n",
      "2\n",
      "2\n",
      "3\n",
      "3\n",
      "4\n",
      "4\n",
      "5\n",
      "5\n",
      "6\n",
      "1\n",
      "2\n",
      "1\n",
      "3\n",
      "2\n",
      "4\n",
      "3\n",
      "5\n",
      "4\n",
      "6\n",
      "5\n",
      "7\n",
      "2\n",
      "3\n",
      "1\n",
      "4\n",
      "2\n",
      "5\n",
      "3\n",
      "6\n",
      "4\n",
      "7\n",
      "5\n",
      "8\n",
      "3\n",
      "4\n",
      "1\n",
      "5\n",
      "2\n",
      "6\n",
      "3\n",
      "7\n",
      "4\n",
      "8\n",
      "5\n",
      "9\n",
      "4\n",
      "5\n",
      "1\n",
      "6\n",
      "2\n",
      "7\n",
      "3\n",
      "8\n",
      "4\n",
      "9\n",
      "5\n",
      "10\n",
      "5\n",
      "done looping\n"
     ]
    }
   ],
   "source": [
    "# The pound sign marks the start of a comment. Python itself\n",
    "# ignores the comments, but they're helpful for anyone reading the code.\n",
    "for i in [1, 2, 3, 4, 5]:\n",
    "    print(i)\n",
    "    for j in [1, 2, 3, 4, 5]:\n",
    "        print(j)\n",
    "        print(i+j)\n",
    "    print(i)\n",
    "print('done looping')"
   ]
  },
  {
   "cell_type": "markdown",
   "id": "f20509be",
   "metadata": {},
   "source": [
    "This makes Python code very readable, but it also means that you have to\n",
    "be very careful with your formatting.\n",
    "\n",
    "##### WARNING\n",
    "Programmers will often argue over whether to use tabs or spaces for indentation. For\n",
    "many languages it doesn’t matter that much; however, Python considers tabs and spaces\n",
    "different indentation and will not be able to run your code if you mix the two. When\n",
    "writing Python you should always use spaces, never tabs. (If you write code in an editor\n",
    "you can configure it so that the Tab key just inserts spaces.)"
   ]
  },
  {
   "cell_type": "markdown",
   "id": "af73f9cd",
   "metadata": {},
   "source": [
    "Whitespace is ignored inside parentheses and brackets, which can be\n",
    "helpful for long-winded computations: and for making code easier to read"
   ]
  },
  {
   "cell_type": "code",
   "execution_count": 4,
   "id": "49fa1cff",
   "metadata": {},
   "outputs": [
    {
     "data": {
      "text/plain": [
       "210"
      ]
     },
     "execution_count": 4,
     "metadata": {},
     "output_type": "execute_result"
    }
   ],
   "source": [
    "long_winded_computation = (1 + 2 + 3 + 4 + 5 + 6 + 7 + 8 + 9 + 10 +\n",
    "                           11 + 12 + 13 + 14 + 15 + 16 + 17 + 18 + 19 + 20)\n",
    "long_winded_computation"
   ]
  },
  {
   "cell_type": "code",
   "execution_count": 7,
   "id": "3ab53dec",
   "metadata": {},
   "outputs": [],
   "source": [
    "list_of_lists = [[1, 2, 3], [4, 5, 6], [7, 8, 9]]\n",
    "\n",
    "easier_to_read_list_of_lists = [[1, 2, 3],\n",
    "                                [4, 5, 6],\n",
    "                                [7, 8, 9]]"
   ]
  },
  {
   "cell_type": "markdown",
   "id": "8a4dd9c6",
   "metadata": {},
   "source": [
    "You can also use a backslash to indicate that a statement continues onto the\n",
    "next line, although we’ll rarely do this:"
   ]
  },
  {
   "cell_type": "code",
   "execution_count": 10,
   "id": "b390315b",
   "metadata": {},
   "outputs": [],
   "source": [
    "two_plus_three = 2 + \\\n",
    "                 3"
   ]
  },
  {
   "cell_type": "markdown",
   "id": "41573d66",
   "metadata": {},
   "source": [
    "One consequence of whitespace formatting is that it can be hard to copy and\n",
    "paste code into the Python shell. For example, if you tried to paste the code:\n",
    "into the ordinary Python shell, you would receive the complaint:\n",
    "> IndentationError: expected an indented \n",
    "\n",
    "because the interpreter thinks the blank line signals the end of the for\n",
    "loop’s block.\n",
    "\n"
   ]
  },
  {
   "cell_type": "code",
   "execution_count": 12,
   "id": "81304414",
   "metadata": {
    "collapsed": true
   },
   "outputs": [
    {
     "name": "stdout",
     "output_type": "stream",
     "text": [
      "1\n",
      "2\n",
      "3\n",
      "4\n",
      "5\n"
     ]
    }
   ],
   "source": [
    "for i in [1, 2, 3, 4, 5]:    \n",
    "    \n",
    "    #notice the blank line\n",
    "    print(i)"
   ]
  },
  {
   "cell_type": "markdown",
   "id": "eecb5f66",
   "metadata": {},
   "source": [
    "IPython has a magic function called %paste, which correctly pastes\n",
    "whatever is on your clipboard, whitespace and all. This alone is a good\n",
    "reason to use IPython.\n"
   ]
  },
  {
   "cell_type": "markdown",
   "id": "154f5db2",
   "metadata": {},
   "source": [
    "### Modules\n",
    "\n",
    "Certain features of Python are not loaded by default. These include both\n",
    "features that are included as part of the language as well as third-party\n",
    "features that you download yourself. In order to use these features, you’ll\n",
    "need to import the modules that contain them.\n",
    "One approach is to simply import the module itself:"
   ]
  },
  {
   "cell_type": "code",
   "execution_count": 14,
   "id": "af43ea1c",
   "metadata": {},
   "outputs": [
    {
     "data": {
      "text/plain": [
       "re.compile(r'[0-9]+', re.IGNORECASE|re.UNICODE)"
      ]
     },
     "execution_count": 14,
     "metadata": {},
     "output_type": "execute_result"
    }
   ],
   "source": [
    "import re\n",
    "my_regex = re.compile(\"[0-9]+\", re.I)\n",
    "my_regex"
   ]
  },
  {
   "cell_type": "markdown",
   "id": "09d5b3b5",
   "metadata": {},
   "source": [
    "Here, re is the module containing functions and constants for working with\n",
    "regular expressions. After this type of import you must prefix those\n",
    "functions with re. in order to access them.\n",
    "\n",
    "If you already had a different re in your code, you could use an alias:"
   ]
  },
  {
   "cell_type": "code",
   "execution_count": 15,
   "id": "2e50f305",
   "metadata": {},
   "outputs": [
    {
     "data": {
      "text/plain": [
       "re.compile(r'[0-9]+', re.IGNORECASE|re.UNICODE)"
      ]
     },
     "execution_count": 15,
     "metadata": {},
     "output_type": "execute_result"
    }
   ],
   "source": [
    "import re as regex\n",
    "my_regex = regex.compile(\"[0-9]+\", regex.I)\n",
    "my_regex"
   ]
  },
  {
   "cell_type": "markdown",
   "id": "0451f1aa",
   "metadata": {},
   "source": [
    "You might also do this if your module has an unwieldy name or if you’re\n",
    "going to be typing it a lot. For example, a standard convention when\n",
    "visualizing data with matplotlib is:\n",
    "\n",
    ">import matplotlib.pyplot as plt\n",
    ">>plt.plot(...)\n",
    "\n",
    "If you need a few specific values from a module, you can import them\n",
    "explicitly and use them without qualification:"
   ]
  },
  {
   "cell_type": "code",
   "execution_count": 17,
   "id": "81c34b27",
   "metadata": {},
   "outputs": [],
   "source": [
    "from collections import defaultdict, Counter\n",
    "lookup = defaultdict(int)\n",
    "my_counter = Counter()\n",
    "\n",
    "# reference : https://www.geeksforgeeks.org/python-collections-module/"
   ]
  },
  {
   "cell_type": "markdown",
   "id": "cab4356b",
   "metadata": {},
   "source": [
    "If you were a bad person, you could import the entire contents of a module\n",
    "into your namespace, which might inadvertently overwrite variables you’ve\n",
    "already defined:"
   ]
  },
  {
   "cell_type": "code",
   "execution_count": 19,
   "id": "6f2159a9",
   "metadata": {},
   "outputs": [
    {
     "name": "stdout",
     "output_type": "stream",
     "text": [
      "<function match at 0x0000000002A38D08>\n"
     ]
    }
   ],
   "source": [
    "match = 10\n",
    "from re import *  # uh oh, re has a match function\n",
    "print(match)      # \"<function match at 0x10281e6a8>\""
   ]
  },
  {
   "cell_type": "markdown",
   "id": "982a4e2b",
   "metadata": {},
   "source": [
    "However, since you are not a bad person, you won’t ever do this.\n"
   ]
  },
  {
   "cell_type": "code",
   "execution_count": null,
   "id": "68951580",
   "metadata": {},
   "outputs": [],
   "source": []
  }
 ],
 "metadata": {
  "kernelspec": {
   "display_name": "Python 3",
   "language": "python",
   "name": "python3"
  },
  "language_info": {
   "codemirror_mode": {
    "name": "ipython",
    "version": 3
   },
   "file_extension": ".py",
   "mimetype": "text/x-python",
   "name": "python",
   "nbconvert_exporter": "python",
   "pygments_lexer": "ipython3",
   "version": "3.6.13"
  }
 },
 "nbformat": 4,
 "nbformat_minor": 5
}
