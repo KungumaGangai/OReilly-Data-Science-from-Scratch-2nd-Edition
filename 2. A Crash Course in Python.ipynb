{
 "cells": [
  {
   "cell_type": "markdown",
   "id": "c0448977",
   "metadata": {},
   "source": [
    "### The Zen of Python"
   ]
  },
  {
   "cell_type": "code",
   "execution_count": 1,
   "id": "03b0945d",
   "metadata": {},
   "outputs": [
    {
     "name": "stdout",
     "output_type": "stream",
     "text": [
      "The Zen of Python, by Tim Peters\n",
      "\n",
      "Beautiful is better than ugly.\n",
      "Explicit is better than implicit.\n",
      "Simple is better than complex.\n",
      "Complex is better than complicated.\n",
      "Flat is better than nested.\n",
      "Sparse is better than dense.\n",
      "Readability counts.\n",
      "Special cases aren't special enough to break the rules.\n",
      "Although practicality beats purity.\n",
      "Errors should never pass silently.\n",
      "Unless explicitly silenced.\n",
      "In the face of ambiguity, refuse the temptation to guess.\n",
      "There should be one-- and preferably only one --obvious way to do it.\n",
      "Although that way may not be obvious at first unless you're Dutch.\n",
      "Now is better than never.\n",
      "Although never is often better than *right* now.\n",
      "If the implementation is hard to explain, it's a bad idea.\n",
      "If the implementation is easy to explain, it may be a good idea.\n",
      "Namespaces are one honking great idea -- let's do more of those!\n"
     ]
    }
   ],
   "source": [
    "import this"
   ]
  },
  {
   "cell_type": "markdown",
   "id": "c917918c",
   "metadata": {},
   "source": [
    "### Getting Python\n",
    "\n",
    "You can download Python from Python.org. But if you don’t already have\n",
    "Python, I recommend instead installing the Anaconda distribution, which\n",
    "already includes most of the libraries that you need to do data science.\n"
   ]
  },
  {
   "cell_type": "markdown",
   "id": "f48ab1ae",
   "metadata": {},
   "source": [
    "### Virtual Environments\n",
    "\n",
    "Every data science project you do will require some combination of external libraries, sometimes with specific versions that differ from the specific versions you used for other projects. If you were to have a single Python installation, these libraries would conflict and cause you all sorts of problems.\n",
    "\n",
    "The standard solution is to use virtual environments, which are sandboxed Python environments that maintain their own versions of Python libraries (and, depending on how you set up the environment, of Python itself).\n",
    "\n",
    "I recommended you install the Anaconda Python distribution, so in this section I’m going to explain how Anaconda’s environments work. If you are not using Anaconda, you can either use the built-in venv module or install virtualenv. In which case you should follow their instructions instead.\n",
    "\n",
    "To create an (Anaconda) virtual environment, you just do the following:\n",
    " * create a Python 3.6 environment named \"dsfs\"\n",
    "> conda create -n dsfs python=3.6\n",
    " \n",
    "Follow the prompts, and you’ll have a virtual environment called “dsfs,” with the instructions:\n",
    "\n",
    " To activate this environment, use:\n",
    " > source activate dsfs\n",
    "\n",
    " To deactivate an active environment, use:\n",
    " > source deactivate\n",
    "\n",
    " As indicated, you then activate the environment using:\n",
    " > source activate dsfs\n",
    "\n",
    "at which point your command prompt should change to indicate the active environment\n",
    "\n",
    "As long as this environment is active, any libraries you install will be installed only in the dsfs environment\n",
    "\n",
    "Now that you have your environment, it’s worth installing IPython, which is a full-featured Python shell:\n",
    " > python -m pip install ipython\n",
    "\n",
    "As a matter of good discipline, you should always work in a virtual environment, and never using the “base” Python installation.\n",
    "\n"
   ]
  },
  {
   "cell_type": "markdown",
   "id": "4cc74abb",
   "metadata": {},
   "source": [
    "### Whitespace Formatting\n",
    "\n",
    "Many languages use curly braces to delimit blocks of code. Python uses\n",
    "indentation:"
   ]
  },
  {
   "cell_type": "code",
   "execution_count": 2,
   "id": "4957a8e6",
   "metadata": {
    "collapsed": true
   },
   "outputs": [
    {
     "name": "stdout",
     "output_type": "stream",
     "text": [
      "1\n",
      "1\n",
      "2\n",
      "2\n",
      "3\n",
      "3\n",
      "4\n",
      "4\n",
      "5\n",
      "5\n",
      "6\n",
      "1\n",
      "2\n",
      "1\n",
      "3\n",
      "2\n",
      "4\n",
      "3\n",
      "5\n",
      "4\n",
      "6\n",
      "5\n",
      "7\n",
      "2\n",
      "3\n",
      "1\n",
      "4\n",
      "2\n",
      "5\n",
      "3\n",
      "6\n",
      "4\n",
      "7\n",
      "5\n",
      "8\n",
      "3\n",
      "4\n",
      "1\n",
      "5\n",
      "2\n",
      "6\n",
      "3\n",
      "7\n",
      "4\n",
      "8\n",
      "5\n",
      "9\n",
      "4\n",
      "5\n",
      "1\n",
      "6\n",
      "2\n",
      "7\n",
      "3\n",
      "8\n",
      "4\n",
      "9\n",
      "5\n",
      "10\n",
      "5\n",
      "done looping\n"
     ]
    }
   ],
   "source": [
    "# The pound sign marks the start of a comment. Python itself\n",
    "# ignores the comments, but they're helpful for anyone reading the code.\n",
    "for i in [1, 2, 3, 4, 5]:\n",
    "    print(i)\n",
    "    for j in [1, 2, 3, 4, 5]:\n",
    "        print(j)\n",
    "        print(i+j)\n",
    "    print(i)\n",
    "print('done looping')"
   ]
  },
  {
   "cell_type": "markdown",
   "id": "f20509be",
   "metadata": {},
   "source": [
    "This makes Python code very readable, but it also means that you have to\n",
    "be very careful with your formatting.\n",
    "\n",
    "##### WARNING\n",
    "Programmers will often argue over whether to use tabs or spaces for indentation. For\n",
    "many languages it doesn’t matter that much; however, Python considers tabs and spaces\n",
    "different indentation and will not be able to run your code if you mix the two. When\n",
    "writing Python you should always use spaces, never tabs. (If you write code in an editor\n",
    "you can configure it so that the Tab key just inserts spaces.)"
   ]
  },
  {
   "cell_type": "markdown",
   "id": "af73f9cd",
   "metadata": {},
   "source": [
    "Whitespace is ignored inside parentheses and brackets, which can be\n",
    "helpful for long-winded computations: and for making code easier to read"
   ]
  },
  {
   "cell_type": "code",
   "execution_count": 4,
   "id": "49fa1cff",
   "metadata": {},
   "outputs": [
    {
     "data": {
      "text/plain": [
       "210"
      ]
     },
     "execution_count": 4,
     "metadata": {},
     "output_type": "execute_result"
    }
   ],
   "source": [
    "long_winded_computation = (1 + 2 + 3 + 4 + 5 + 6 + 7 + 8 + 9 + 10 +\n",
    "                           11 + 12 + 13 + 14 + 15 + 16 + 17 + 18 + 19 + 20)\n",
    "long_winded_computation"
   ]
  },
  {
   "cell_type": "code",
   "execution_count": 7,
   "id": "3ab53dec",
   "metadata": {},
   "outputs": [],
   "source": [
    "list_of_lists = [[1, 2, 3], [4, 5, 6], [7, 8, 9]]\n",
    "\n",
    "easier_to_read_list_of_lists = [[1, 2, 3],\n",
    "                                [4, 5, 6],\n",
    "                                [7, 8, 9]]"
   ]
  },
  {
   "cell_type": "markdown",
   "id": "8a4dd9c6",
   "metadata": {},
   "source": [
    "You can also use a backslash to indicate that a statement continues onto the\n",
    "next line, although we’ll rarely do this:"
   ]
  },
  {
   "cell_type": "code",
   "execution_count": 10,
   "id": "b390315b",
   "metadata": {},
   "outputs": [],
   "source": [
    "two_plus_three = 2 + \\\n",
    "                 3"
   ]
  },
  {
   "cell_type": "markdown",
   "id": "41573d66",
   "metadata": {},
   "source": [
    "One consequence of whitespace formatting is that it can be hard to copy and\n",
    "paste code into the Python shell. For example, if you tried to paste the code:\n",
    "into the ordinary Python shell, you would receive the complaint:\n",
    "> IndentationError: expected an indented \n",
    "\n",
    "because the interpreter thinks the blank line signals the end of the for\n",
    "loop’s block.\n",
    "\n"
   ]
  },
  {
   "cell_type": "code",
   "execution_count": 12,
   "id": "81304414",
   "metadata": {
    "collapsed": true
   },
   "outputs": [
    {
     "name": "stdout",
     "output_type": "stream",
     "text": [
      "1\n",
      "2\n",
      "3\n",
      "4\n",
      "5\n"
     ]
    }
   ],
   "source": [
    "for i in [1, 2, 3, 4, 5]:    \n",
    "    \n",
    "    #notice the blank line\n",
    "    print(i)"
   ]
  },
  {
   "cell_type": "markdown",
   "id": "eecb5f66",
   "metadata": {},
   "source": [
    "IPython has a magic function called %paste, which correctly pastes\n",
    "whatever is on your clipboard, whitespace and all. This alone is a good\n",
    "reason to use IPython.\n"
   ]
  },
  {
   "cell_type": "markdown",
   "id": "154f5db2",
   "metadata": {},
   "source": [
    "### Modules\n",
    "\n",
    "Certain features of Python are not loaded by default. These include both\n",
    "features that are included as part of the language as well as third-party\n",
    "features that you download yourself. In order to use these features, you’ll\n",
    "need to import the modules that contain them.\n",
    "One approach is to simply import the module itself:"
   ]
  },
  {
   "cell_type": "code",
   "execution_count": 14,
   "id": "af43ea1c",
   "metadata": {},
   "outputs": [
    {
     "data": {
      "text/plain": [
       "re.compile(r'[0-9]+', re.IGNORECASE|re.UNICODE)"
      ]
     },
     "execution_count": 14,
     "metadata": {},
     "output_type": "execute_result"
    }
   ],
   "source": [
    "import re\n",
    "my_regex = re.compile(\"[0-9]+\", re.I)\n",
    "my_regex"
   ]
  },
  {
   "cell_type": "markdown",
   "id": "09d5b3b5",
   "metadata": {},
   "source": [
    "Here, re is the module containing functions and constants for working with\n",
    "regular expressions. After this type of import you must prefix those\n",
    "functions with re. in order to access them.\n",
    "\n",
    "If you already had a different re in your code, you could use an alias:"
   ]
  },
  {
   "cell_type": "code",
   "execution_count": 15,
   "id": "2e50f305",
   "metadata": {},
   "outputs": [
    {
     "data": {
      "text/plain": [
       "re.compile(r'[0-9]+', re.IGNORECASE|re.UNICODE)"
      ]
     },
     "execution_count": 15,
     "metadata": {},
     "output_type": "execute_result"
    }
   ],
   "source": [
    "import re as regex\n",
    "my_regex = regex.compile(\"[0-9]+\", regex.I)\n",
    "my_regex"
   ]
  },
  {
   "cell_type": "markdown",
   "id": "0451f1aa",
   "metadata": {},
   "source": [
    "You might also do this if your module has an unwieldy name or if you’re\n",
    "going to be typing it a lot. For example, a standard convention when\n",
    "visualizing data with matplotlib is:\n",
    "\n",
    ">import matplotlib.pyplot as plt\n",
    ">>plt.plot(...)\n",
    "\n",
    "If you need a few specific values from a module, you can import them\n",
    "explicitly and use them without qualification:"
   ]
  },
  {
   "cell_type": "code",
   "execution_count": 17,
   "id": "81c34b27",
   "metadata": {},
   "outputs": [],
   "source": [
    "from collections import defaultdict, Counter\n",
    "lookup = defaultdict(int)\n",
    "my_counter = Counter()\n",
    "\n",
    "# reference : https://www.geeksforgeeks.org/python-collections-module/"
   ]
  },
  {
   "cell_type": "markdown",
   "id": "cab4356b",
   "metadata": {},
   "source": [
    "If you were a bad person, you could import the entire contents of a module\n",
    "into your namespace, which might inadvertently overwrite variables you’ve\n",
    "already defined:"
   ]
  },
  {
   "cell_type": "code",
   "execution_count": 19,
   "id": "6f2159a9",
   "metadata": {},
   "outputs": [
    {
     "name": "stdout",
     "output_type": "stream",
     "text": [
      "<function match at 0x0000000002A38D08>\n"
     ]
    }
   ],
   "source": [
    "match = 10\n",
    "from re import *  # uh oh, re has a match function\n",
    "print(match)      # \"<function match at 0x10281e6a8>\""
   ]
  },
  {
   "cell_type": "markdown",
   "id": "982a4e2b",
   "metadata": {},
   "source": [
    "However, since you are not a bad person, you won’t ever do this.\n"
   ]
  },
  {
   "cell_type": "markdown",
   "id": "3a64d627",
   "metadata": {},
   "source": [
    "### Functions\n",
    "\n",
    "A function is a rule for taking zero or more inputs and returning a\n",
    "corresponding output. In Python, we typically define functions using def:\n"
   ]
  },
  {
   "cell_type": "code",
   "execution_count": 1,
   "id": "f4d5c36d",
   "metadata": {},
   "outputs": [],
   "source": [
    "def double(x):\n",
    "    \"\"\"\n",
    "    This is where you put an optional docstring that explains what the function does.\n",
    "    For example, this function multiplies its input by 2.\n",
    "    \"\"\"\n",
    "    return x * 2"
   ]
  },
  {
   "cell_type": "markdown",
   "id": "9f4df13d",
   "metadata": {},
   "source": [
    "Python functions are first-class, which means that we can assign them to\n",
    "variables and pass them into functions just like any other arguments:\n"
   ]
  },
  {
   "cell_type": "code",
   "execution_count": 9,
   "id": "495258fc",
   "metadata": {},
   "outputs": [
    {
     "name": "stdout",
     "output_type": "stream",
     "text": [
      "2\n"
     ]
    }
   ],
   "source": [
    "def apply_to_one(f):\n",
    "    \"\"\" Calls the function f with 1 as its arguments\"\"\"\n",
    "    return f(1)\n",
    "\n",
    "# assigning the function (double) to a variable (my_double)\n",
    "my_double = double #refers to the previously defined function \n",
    "\n",
    "# passing a function object(my_double) into another function(apply_to_one) as an argument\n",
    "x = apply_to_one(my_double) # equals 2\n",
    "print(x)"
   ]
  },
  {
   "cell_type": "markdown",
   "id": "a0b9de3a",
   "metadata": {},
   "source": [
    "It is also easy to create short anonymous functions, or lambdas:"
   ]
  },
  {
   "cell_type": "code",
   "execution_count": 10,
   "id": "c0ee616e",
   "metadata": {},
   "outputs": [
    {
     "data": {
      "text/plain": [
       "5"
      ]
     },
     "execution_count": 10,
     "metadata": {},
     "output_type": "execute_result"
    }
   ],
   "source": [
    "y = apply_to_one(lambda x: x + 4)\n",
    "y"
   ]
  },
  {
   "cell_type": "markdown",
   "id": "ae1e2b57",
   "metadata": {},
   "source": [
    "You can assign lambdas to variables, although most people will tell you that\n",
    "you should just use def instead:\n"
   ]
  },
  {
   "cell_type": "code",
   "execution_count": 11,
   "id": "29467c69",
   "metadata": {},
   "outputs": [],
   "source": [
    "another_double = lambda x: 2 * x    # don't do this\n",
    "\n",
    "def another_double(x):\n",
    "    \"\"\" Do this instead\"\"\"\n",
    "    return 2 * x"
   ]
  },
  {
   "cell_type": "markdown",
   "id": "e67047ff",
   "metadata": {},
   "source": [
    "Function parameters can also be given default arguments, which only need\n",
    "to be specified when you want a value other than the default:\n"
   ]
  },
  {
   "cell_type": "code",
   "execution_count": 12,
   "id": "40c89132",
   "metadata": {},
   "outputs": [
    {
     "name": "stdout",
     "output_type": "stream",
     "text": [
      "hello\n",
      "my default message\n"
     ]
    }
   ],
   "source": [
    "def my_print(message = \"my default message\"):\n",
    "    print(message)\n",
    "    \n",
    "my_print(\"hello\") # prints 'hello'\n",
    "my_print()        # prints 'my default message'"
   ]
  },
  {
   "cell_type": "markdown",
   "id": "38e36d80",
   "metadata": {},
   "source": [
    "It is sometimes useful to specify arguments by name:"
   ]
  },
  {
   "cell_type": "code",
   "execution_count": 19,
   "id": "5eec76e9",
   "metadata": {},
   "outputs": [
    {
     "data": {
      "text/plain": [
       "'Joel Grus'"
      ]
     },
     "execution_count": 19,
     "metadata": {},
     "output_type": "execute_result"
    }
   ],
   "source": [
    "def full_name(first = \"What's-his-name\", last = \"something\"):\n",
    "    return first + \" \" + last\n",
    "\n",
    "full_name(\"Joel\", \"Grus\")"
   ]
  },
  {
   "cell_type": "code",
   "execution_count": 18,
   "id": "17842f6e",
   "metadata": {},
   "outputs": [
    {
     "data": {
      "text/plain": [
       "'Joel something'"
      ]
     },
     "execution_count": 18,
     "metadata": {},
     "output_type": "execute_result"
    }
   ],
   "source": [
    "full_name(\"Joel\")"
   ]
  },
  {
   "cell_type": "code",
   "execution_count": 16,
   "id": "e00c4c76",
   "metadata": {},
   "outputs": [
    {
     "data": {
      "text/plain": [
       "\"What's-his-name Grus\""
      ]
     },
     "execution_count": 16,
     "metadata": {},
     "output_type": "execute_result"
    }
   ],
   "source": [
    "full_name(last=\"Grus\")"
   ]
  },
  {
   "cell_type": "markdown",
   "id": "d322de62",
   "metadata": {},
   "source": [
    "We will be creating many, many functions"
   ]
  },
  {
   "cell_type": "markdown",
   "id": "0733b2a7",
   "metadata": {},
   "source": [
    "### Strings\n",
    "\n",
    "Strings can be delimited by single or double quotation marks (but the\n",
    "quotes have to match):"
   ]
  },
  {
   "cell_type": "code",
   "execution_count": 1,
   "id": "8a930480",
   "metadata": {},
   "outputs": [],
   "source": [
    "single_quoted_string = 'data science'\n",
    "double_quoted_string = \"data science\""
   ]
  },
  {
   "cell_type": "markdown",
   "id": "0099e75a",
   "metadata": {},
   "source": [
    "Python uses backslashes to encode special characters. For example"
   ]
  },
  {
   "cell_type": "code",
   "execution_count": 5,
   "id": "b9dddd47",
   "metadata": {},
   "outputs": [
    {
     "data": {
      "text/plain": [
       "1"
      ]
     },
     "execution_count": 5,
     "metadata": {},
     "output_type": "execute_result"
    }
   ],
   "source": [
    "tab_string = \"\\t\"   # represents the tab character\n",
    "len(tab_string)     # is 1"
   ]
  },
  {
   "cell_type": "markdown",
   "id": "84f69faa",
   "metadata": {},
   "source": [
    "If you want backslahses as backslashes (which you might in windows directory names or in regular expressions), \n",
    "you can create raw strings using r\"\":"
   ]
  },
  {
   "cell_type": "code",
   "execution_count": 6,
   "id": "e332a20e",
   "metadata": {},
   "outputs": [
    {
     "data": {
      "text/plain": [
       "2"
      ]
     },
     "execution_count": 6,
     "metadata": {},
     "output_type": "execute_result"
    }
   ],
   "source": [
    "not_tab_string = r\"\\t\"  # represents the characters '\\' and 't'\n",
    "len(not_tab_string)     # is 2"
   ]
  },
  {
   "cell_type": "markdown",
   "id": "c18af731",
   "metadata": {},
   "source": [
    "You can create multiline strings using three double quotes: "
   ]
  },
  {
   "cell_type": "code",
   "execution_count": 7,
   "id": "1a081e2c",
   "metadata": {},
   "outputs": [],
   "source": [
    "multi_line_string = \"\"\"This is the first line.\n",
    "and this is the second line\n",
    "and this is the third line\"\"\""
   ]
  },
  {
   "cell_type": "markdown",
   "id": "ce222986",
   "metadata": {},
   "source": [
    "A new feature in python 3.6 is the f-string, which provides a simple way to substitute values into strings.\n",
    "For example, if we had the first name and last name given separately:"
   ]
  },
  {
   "cell_type": "code",
   "execution_count": 8,
   "id": "f9afabb0",
   "metadata": {},
   "outputs": [],
   "source": [
    "first_name = \"Joel\"\n",
    "last_name = \"Grus\""
   ]
  },
  {
   "cell_type": "markdown",
   "id": "9da5435d",
   "metadata": {},
   "source": [
    "We might want to combine them into a full name. There are multiple ways to construct such a full_name string:"
   ]
  },
  {
   "cell_type": "code",
   "execution_count": 10,
   "id": "c4a7d8b7",
   "metadata": {},
   "outputs": [],
   "source": [
    "full_name1 = first_name + \" \" + last_name               # string addition\n",
    "full_name2 = \"{0} {1}\".format(first_name, last_name)    # string.format"
   ]
  },
  {
   "cell_type": "markdown",
   "id": "401bd86e",
   "metadata": {},
   "source": [
    "but the f-string way is much less unwieldy:"
   ]
  },
  {
   "cell_type": "code",
   "execution_count": 12,
   "id": "7cba765a",
   "metadata": {},
   "outputs": [
    {
     "data": {
      "text/plain": [
       "'Joel Grus'"
      ]
     },
     "execution_count": 12,
     "metadata": {},
     "output_type": "execute_result"
    }
   ],
   "source": [
    "full_name3 = f\"{first_name} {last_name}\"\n",
    "full_name3"
   ]
  },
  {
   "cell_type": "markdown",
   "id": "79d46728",
   "metadata": {},
   "source": [
    "and we'll prefer it throughout the book."
   ]
  },
  {
   "cell_type": "code",
   "execution_count": null,
   "id": "8c885aa7",
   "metadata": {},
   "outputs": [],
   "source": []
  }
 ],
 "metadata": {
  "kernelspec": {
   "display_name": "Python 3",
   "language": "python",
   "name": "python3"
  },
  "language_info": {
   "codemirror_mode": {
    "name": "ipython",
    "version": 3
   },
   "file_extension": ".py",
   "mimetype": "text/x-python",
   "name": "python",
   "nbconvert_exporter": "python",
   "pygments_lexer": "ipython3",
   "version": "3.6.13"
  }
 },
 "nbformat": 4,
 "nbformat_minor": 5
}
