{
 "cells": [
  {
   "cell_type": "markdown",
   "id": "fc49bb78",
   "metadata": {},
   "source": [
    "#                       Data Science from Scratch 2nd Edition"
   ]
  },
  {
   "cell_type": "markdown",
   "id": "83c490bc",
   "metadata": {},
   "source": [
    "###  ____________________________________________ Introduction _____________________________"
   ]
  },
  {
   "cell_type": "markdown",
   "id": "e7a9b4f7",
   "metadata": {
    "direction": "ltr"
   },
   "source": [
    "#### Finding Key connectors"
   ]
  },
  {
   "cell_type": "code",
   "execution_count": 3,
   "id": "068d2331",
   "metadata": {},
   "outputs": [],
   "source": [
    "# dump of data sciencester network\n",
    "\n",
    "# list of users\n",
    "users = [\n",
    "    {\"id\":0, \"name\":\"Hero\"},\n",
    "    {\"id\":1, \"name\":\"Dunn\"},\n",
    "    {\"id\":2, \"name\":\"Sue\"},\n",
    "    {\"id\":3, \"name\":\"Chi\"},\n",
    "    {\"id\":4, \"name\":\"Thor\"},\n",
    "    {\"id\":5, \"name\":\"Clive\"},\n",
    "    {\"id\":6, \"name\":\"Hicks\"},\n",
    "    {\"id\":7, \"name\":\"Devin\"},\n",
    "    {\"id\":8, \"name\":\"Kate\"},\n",
    "    {\"id\":9, \"name\":\"Klein\"}    \n",
    "]\n",
    "\n",
    "# friendship data\n",
    "friendship_pairs = [(0, 1), (0, 2), (1, 2), (1, 3), (2, 3), (3, 4),\n",
    "                    (4, 5), (5, 6), (5, 7), (6, 8), (7, 8), (8, 9)]"
   ]
  },
  {
   "cell_type": "code",
   "execution_count": 14,
   "id": "42825b4b",
   "metadata": {},
   "outputs": [
    {
     "data": {
      "text/plain": [
       "{0: [], 1: [], 2: [], 3: [], 4: [], 5: [], 6: [], 7: [], 8: [], 9: []}"
      ]
     },
     "execution_count": 14,
     "metadata": {},
     "output_type": "execute_result"
    }
   ],
   "source": [
    "# let’s create a dict where the keys are user ids and the values are lists of friend ids.\n",
    "\n",
    "#  Initialize the dict with an empty list for each user id\n",
    "friendships = {user[\"id\"] : [] for user in users }\n",
    "friendships\n",
    "\n",
    "\n",
    "# friendship_pairs = [(0, 1), (0, 2), (1, 2), (1, 3), (2, 3), (3, 4),\n",
    "#                     (4, 5), (5, 6), (5, 7), (6, 8), (7, 8), (8, 9)]"
   ]
  },
  {
   "cell_type": "code",
   "execution_count": null,
   "id": "e290c13d",
   "metadata": {},
   "outputs": [],
   "source": []
  },
  {
   "cell_type": "code",
   "execution_count": 15,
   "id": "6d89f730",
   "metadata": {},
   "outputs": [
    {
     "name": "stdout",
     "output_type": "stream",
     "text": [
      "{0: [], 1: [], 2: [], 3: [], 4: [], 5: [], 6: [], 7: [], 8: [], 9: []}\n",
      "friendship pair is : 0 1\n",
      "{0: [1], 1: [0], 2: [], 3: [], 4: [], 5: [], 6: [], 7: [], 8: [], 9: []}\n",
      "friendship pair is : 0 2\n",
      "{0: [1, 2], 1: [0], 2: [0], 3: [], 4: [], 5: [], 6: [], 7: [], 8: [], 9: []}\n",
      "friendship pair is : 1 2\n",
      "{0: [1, 2], 1: [0, 2], 2: [0, 1], 3: [], 4: [], 5: [], 6: [], 7: [], 8: [], 9: []}\n",
      "friendship pair is : 1 3\n",
      "{0: [1, 2], 1: [0, 2, 3], 2: [0, 1], 3: [1], 4: [], 5: [], 6: [], 7: [], 8: [], 9: []}\n",
      "friendship pair is : 2 3\n",
      "{0: [1, 2], 1: [0, 2, 3], 2: [0, 1, 3], 3: [1, 2], 4: [], 5: [], 6: [], 7: [], 8: [], 9: []}\n",
      "friendship pair is : 3 4\n",
      "{0: [1, 2], 1: [0, 2, 3], 2: [0, 1, 3], 3: [1, 2, 4], 4: [3], 5: [], 6: [], 7: [], 8: [], 9: []}\n",
      "friendship pair is : 4 5\n",
      "{0: [1, 2], 1: [0, 2, 3], 2: [0, 1, 3], 3: [1, 2, 4], 4: [3, 5], 5: [4], 6: [], 7: [], 8: [], 9: []}\n",
      "friendship pair is : 5 6\n",
      "{0: [1, 2], 1: [0, 2, 3], 2: [0, 1, 3], 3: [1, 2, 4], 4: [3, 5], 5: [4, 6], 6: [5], 7: [], 8: [], 9: []}\n",
      "friendship pair is : 5 7\n",
      "{0: [1, 2], 1: [0, 2, 3], 2: [0, 1, 3], 3: [1, 2, 4], 4: [3, 5], 5: [4, 6, 7], 6: [5], 7: [5], 8: [], 9: []}\n",
      "friendship pair is : 6 8\n",
      "{0: [1, 2], 1: [0, 2, 3], 2: [0, 1, 3], 3: [1, 2, 4], 4: [3, 5], 5: [4, 6, 7], 6: [5, 8], 7: [5], 8: [6], 9: []}\n",
      "friendship pair is : 7 8\n",
      "{0: [1, 2], 1: [0, 2, 3], 2: [0, 1, 3], 3: [1, 2, 4], 4: [3, 5], 5: [4, 6, 7], 6: [5, 8], 7: [5, 8], 8: [6, 7], 9: []}\n",
      "friendship pair is : 8 9\n"
     ]
    }
   ],
   "source": [
    "#  And loop over the friendship pairs to populate it\n",
    "for i,j in friendship_pairs:\n",
    "    print(friendships)\n",
    "    print('friendship pair is :',i,j) \n",
    "\n",
    "    friendships[i].append(j)  # Add j as a friend of user i\n",
    "    friendships[j].append(i)  # Add i as a friend of user j\n",
    "    \n"
   ]
  },
  {
   "cell_type": "code",
   "execution_count": 16,
   "id": "4980d99e",
   "metadata": {},
   "outputs": [
    {
     "data": {
      "text/plain": [
       "dict_values([[1, 2], [0, 2, 3], [0, 1, 3], [1, 2, 4], [3, 5], [4, 6, 7], [5, 8], [5, 8], [6, 7, 9], [8]])"
      ]
     },
     "execution_count": 16,
     "metadata": {},
     "output_type": "execute_result"
    }
   ],
   "source": [
    "friendships.keys()\n",
    "friendships.values()"
   ]
  },
  {
   "cell_type": "code",
   "execution_count": null,
   "id": "800db877",
   "metadata": {},
   "outputs": [],
   "source": []
  }
 ],
 "metadata": {
  "kernelspec": {
   "display_name": "Python 3",
   "language": "python",
   "name": "python3"
  },
  "language_info": {
   "codemirror_mode": {
    "name": "ipython",
    "version": 3
   },
   "file_extension": ".py",
   "mimetype": "text/x-python",
   "name": "python",
   "nbconvert_exporter": "python",
   "pygments_lexer": "ipython3",
   "version": "3.8.8"
  }
 },
 "nbformat": 4,
 "nbformat_minor": 5
}
